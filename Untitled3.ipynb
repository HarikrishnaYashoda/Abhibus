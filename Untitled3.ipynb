{
  "nbformat": 4,
  "nbformat_minor": 0,
  "metadata": {
    "colab": {
      "provenance": []
    },
    "kernelspec": {
      "name": "python3",
      "display_name": "Python 3"
    },
    "language_info": {
      "name": "python"
    }
  },
  "cells": [
    {
      "cell_type": "code",
      "execution_count": 1,
      "metadata": {
        "id": "xpaofhvNtS_8"
      },
      "outputs": [],
      "source": [
        "import pandas as pd\n",
        "import numpy as np\n",
        "from sklearn.preprocessing import LabelEncoder\n",
        "import lightgbm as lgb\n",
        "from sklearn.metrics import mean_squared_error\n",
        "import matplotlib.pyplot as plt\n"
      ]
    },
    {
      "cell_type": "markdown",
      "source": [
        "**LOAD DATA**"
      ],
      "metadata": {
        "id": "QKAE1EEtuHXk"
      }
    },
    {
      "cell_type": "code",
      "source": [
        "train = pd.read_csv(\"train.csv\")\n",
        "test = pd.read_csv(\"/content/test_8gqdJqH.csv\")\n",
        "transactions = pd.read_csv(\"transactions.csv\")"
      ],
      "metadata": {
        "id": "SQRECyQvttRc"
      },
      "execution_count": 2,
      "outputs": []
    },
    {
      "cell_type": "markdown",
      "source": [
        "**PRE PROCESSING THE DATA**"
      ],
      "metadata": {
        "id": "3tKDSRQOuvEb"
      }
    },
    {
      "cell_type": "code",
      "source": [
        "train['doj'] = pd.to_datetime(train['doj'])\n",
        "test['doj'] = pd.to_datetime(test['doj'])\n",
        "transactions['doj'] = pd.to_datetime(transactions['doj'])\n",
        "transactions['doi'] = pd.to_datetime(transactions['doi'])"
      ],
      "metadata": {
        "id": "ZcCTCZCouWOS"
      },
      "execution_count": 3,
      "outputs": []
    },
    {
      "cell_type": "markdown",
      "source": [
        "**FEATURE ENGINEERING**"
      ],
      "metadata": {
        "id": "FuyE7smDu6K-"
      }
    },
    {
      "cell_type": "code",
      "source": [
        "# Filter transactions as of dbd >= 15\n",
        "tx_15 = transactions[transactions['dbd'] >= 15]\n",
        "agg_15 = tx_15.groupby(['doj', 'srcid', 'destid']).agg({\n",
        "    'cumsum_seatcount': 'max',\n",
        "    'cumsum_searchcount': 'max'\n",
        "}).reset_index().rename(columns={\n",
        "    'cumsum_seatcount': 'seatcount_dbd15',\n",
        "    'cumsum_searchcount': 'searchcount_dbd15'\n",
        "})"
      ],
      "metadata": {
        "id": "EQfeVj-ou0-t"
      },
      "execution_count": 4,
      "outputs": []
    },
    {
      "cell_type": "code",
      "source": [
        "# Merge features into train/test\n",
        "train = train.merge(agg_15, on=['doj', 'srcid', 'destid'], how='left')\n",
        "test = test.merge(agg_15, on=['doj', 'srcid', 'destid'], how='left')"
      ],
      "metadata": {
        "id": "kM6OVZhyvFIN"
      },
      "execution_count": 5,
      "outputs": []
    },
    {
      "cell_type": "code",
      "source": [
        "# Merge region/tier info\n",
        "cat_cols = ['srcid', 'destid', 'srcid_region', 'destid_region', 'srcid_tier', 'destid_tier']\n",
        "cat_info = transactions[cat_cols].drop_duplicates(['srcid', 'destid'])\n",
        "train = train.merge(cat_info, on=['srcid', 'destid'], how='left')\n",
        "test = test.merge(cat_info, on=['srcid', 'destid'], how='left')"
      ],
      "metadata": {
        "id": "iPiLyJONvJd5"
      },
      "execution_count": 6,
      "outputs": []
    },
    {
      "cell_type": "code",
      "source": [
        "# Fill NA\n",
        "for df in [train, test]:\n",
        "    df['seatcount_dbd15'] = df['seatcount_dbd15'].fillna(0)\n",
        "    df['searchcount_dbd15'] = df['searchcount_dbd15'].fillna(0)\n",
        "    df['dow'] = df['doj'].dt.weekday\n",
        "    df['month'] = df['doj'].dt.month\n",
        "    df['is_weekend'] = df['dow'].isin([5,6]).astype(int)"
      ],
      "metadata": {
        "id": "-FK0-NaNvMho"
      },
      "execution_count": 7,
      "outputs": []
    },
    {
      "cell_type": "code",
      "source": [
        "# Encode categoricals\n",
        "for col in ['srcid_region', 'destid_region', 'srcid_tier', 'destid_tier']:\n",
        "    le = LabelEncoder()\n",
        "    train[col] = le.fit_transform(train[col].astype(str))\n",
        "    test[col] = le.transform(test[col].astype(str))"
      ],
      "metadata": {
        "id": "FDtAAtorvT0u"
      },
      "execution_count": 8,
      "outputs": []
    },
    {
      "cell_type": "markdown",
      "source": [
        "**MODEL TRAINING**"
      ],
      "metadata": {
        "id": "PuUKp4xgvZbv"
      }
    },
    {
      "cell_type": "code",
      "source": [
        "features = ['srcid', 'destid', 'dow', 'month', 'is_weekend',\n",
        "            'seatcount_dbd15', 'searchcount_dbd15',\n",
        "            'srcid_region', 'destid_region', 'srcid_tier', 'destid_tier']\n",
        "target = 'final_seatcount'"
      ],
      "metadata": {
        "id": "zkcS-YDBvUvn"
      },
      "execution_count": 9,
      "outputs": []
    },
    {
      "cell_type": "code",
      "source": [
        "pip install lightgbm --upgrade\n"
      ],
      "metadata": {
        "colab": {
          "base_uri": "https://localhost:8080/"
        },
        "id": "0I5oviaNwacD",
        "outputId": "631226ce-f925-4a37-93b9-facf12a0c152"
      },
      "execution_count": 10,
      "outputs": [
        {
          "output_type": "stream",
          "name": "stdout",
          "text": [
            "Requirement already satisfied: lightgbm in /usr/local/lib/python3.11/dist-packages (4.6.0)\n",
            "Requirement already satisfied: numpy>=1.17.0 in /usr/local/lib/python3.11/dist-packages (from lightgbm) (2.0.2)\n",
            "Requirement already satisfied: scipy in /usr/local/lib/python3.11/dist-packages (from lightgbm) (1.15.3)\n"
          ]
        }
      ]
    },
    {
      "cell_type": "code",
      "source": [
        "model = LGBMRegressor(\n",
        "    objective='regression',\n",
        "    learning_rate=0.05,\n",
        "    num_leaves=31,\n",
        "    feature_fraction=0.8,\n",
        "    bagging_fraction=0.8,\n",
        "    bagging_freq=5,\n",
        "    random_state=42,\n",
        "    n_estimators=1000\n",
        ")\n",
        "\n",
        "# NO early_stopping_rounds, NO verbose\n",
        "model.fit(\n",
        "    train_data[features], train_data[target]\n",
        ")\n",
        "\n",
        "# Predict on validation\n",
        "val_pred = model.predict(val_data[features])\n",
        "val_rmse = np.sqrt(mean_squared_error(val_data[target], val_pred))\n",
        "print(\"Validation RMSE:\", val_rmse)\n"
      ],
      "metadata": {
        "colab": {
          "base_uri": "https://localhost:8080/"
        },
        "id": "VGYZfPl5xSfN",
        "outputId": "12026486-ce4d-4211-fbcc-8cbeadd541b5"
      },
      "execution_count": 17,
      "outputs": [
        {
          "output_type": "stream",
          "name": "stdout",
          "text": [
            "[LightGBM] [Warning] bagging_freq is set=5, subsample_freq=0 will be ignored. Current value: bagging_freq=5\n",
            "[LightGBM] [Warning] feature_fraction is set=0.8, colsample_bytree=1.0 will be ignored. Current value: feature_fraction=0.8\n",
            "[LightGBM] [Warning] bagging_fraction is set=0.8, subsample=1.0 will be ignored. Current value: bagging_fraction=0.8\n",
            "[LightGBM] [Warning] bagging_freq is set=5, subsample_freq=0 will be ignored. Current value: bagging_freq=5\n",
            "[LightGBM] [Warning] feature_fraction is set=0.8, colsample_bytree=1.0 will be ignored. Current value: feature_fraction=0.8\n",
            "[LightGBM] [Warning] bagging_fraction is set=0.8, subsample=1.0 will be ignored. Current value: bagging_fraction=0.8\n",
            "[LightGBM] [Info] Auto-choosing row-wise multi-threading, the overhead of testing was 0.002079 seconds.\n",
            "You can set `force_row_wise=true` to remove the overhead.\n",
            "And if memory is not enough, you can set `force_col_wise=true`.\n",
            "[LightGBM] [Info] Total Bins 652\n",
            "[LightGBM] [Info] Number of data points in the train set: 53800, number of used features: 11\n",
            "[LightGBM] [Info] Start training from score 1940.546487\n",
            "[LightGBM] [Warning] feature_fraction is set=0.8, colsample_bytree=1.0 will be ignored. Current value: feature_fraction=0.8\n",
            "[LightGBM] [Warning] bagging_freq is set=5, subsample_freq=0 will be ignored. Current value: bagging_freq=5\n",
            "[LightGBM] [Warning] bagging_fraction is set=0.8, subsample=1.0 will be ignored. Current value: bagging_fraction=0.8\n",
            "Validation RMSE: 610.6026123251335\n"
          ]
        }
      ]
    },
    {
      "cell_type": "code",
      "source": [
        "# Validation RMSE\n",
        "val_pred = model.predict(val_data[features])\n",
        "val_rmse = np.sqrt(mean_squared_error(val_data[target], val_pred))\n",
        "print(\"Validation RMSE:\", val_rmse)"
      ],
      "metadata": {
        "colab": {
          "base_uri": "https://localhost:8080/"
        },
        "id": "06Edts6Fx5Sq",
        "outputId": "50498b40-b130-4193-af97-a086acbc3865"
      },
      "execution_count": 18,
      "outputs": [
        {
          "output_type": "stream",
          "name": "stdout",
          "text": [
            "[LightGBM] [Warning] feature_fraction is set=0.8, colsample_bytree=1.0 will be ignored. Current value: feature_fraction=0.8\n",
            "[LightGBM] [Warning] bagging_freq is set=5, subsample_freq=0 will be ignored. Current value: bagging_freq=5\n",
            "[LightGBM] [Warning] bagging_fraction is set=0.8, subsample=1.0 will be ignored. Current value: bagging_fraction=0.8\n",
            "Validation RMSE: 610.6026123251335\n"
          ]
        }
      ]
    },
    {
      "cell_type": "code",
      "source": [
        "# -------------------- Predict on Test --------------------\n",
        "test['final_seatcount'] = model.predict(test[features])\n",
        "test[['route_key', 'final_seatcount']].to_csv(\"submission.csv\", index=False)"
      ],
      "metadata": {
        "colab": {
          "base_uri": "https://localhost:8080/"
        },
        "id": "0NR3itY2yMNW",
        "outputId": "eb2d1bb3-6543-4ce7-f7cc-4d6e55bdd333"
      },
      "execution_count": 19,
      "outputs": [
        {
          "output_type": "stream",
          "name": "stdout",
          "text": [
            "[LightGBM] [Warning] feature_fraction is set=0.8, colsample_bytree=1.0 will be ignored. Current value: feature_fraction=0.8\n",
            "[LightGBM] [Warning] bagging_freq is set=5, subsample_freq=0 will be ignored. Current value: bagging_freq=5\n",
            "[LightGBM] [Warning] bagging_fraction is set=0.8, subsample=1.0 will be ignored. Current value: bagging_fraction=0.8\n"
          ]
        }
      ]
    },
    {
      "cell_type": "code",
      "source": [],
      "metadata": {
        "id": "wN-l5RLnyRJt"
      },
      "execution_count": null,
      "outputs": []
    }
  ]
}